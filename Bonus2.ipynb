{
 "cells": [
  {
   "cell_type": "code",
   "execution_count": 5,
   "metadata": {},
   "outputs": [],
   "source": [
    "import pandas as pd\n",
    "import statsmodels.api as sm\n",
    "import statsmodels.formula.api as smf\n",
    "from statsmodels.stats.outliers_influence import OLSInfluence\n",
    "\n",
    "data = pd.read_csv(\"df.csv\")\n",
    "data_corr = data.drop(columns=[\"Company\", \"Sector\"])"
   ]
  },
  {
   "cell_type": "code",
   "execution_count": 6,
   "metadata": {},
   "outputs": [
    {
     "name": "stderr",
     "output_type": "stream",
     "text": [
      "c:\\Users\\Andílek\\AppData\\Local\\Programs\\Python\\Python39\\lib\\site-packages\\patsy\\util.py:672: FutureWarning: is_categorical_dtype is deprecated and will be removed in a future version. Use isinstance(dtype, CategoricalDtype) instead\n",
      "  return _pandas_is_categorical_dtype(dt)\n",
      "c:\\Users\\Andílek\\AppData\\Local\\Programs\\Python\\Python39\\lib\\site-packages\\patsy\\util.py:672: FutureWarning: is_categorical_dtype is deprecated and will be removed in a future version. Use isinstance(dtype, CategoricalDtype) instead\n",
      "  return _pandas_is_categorical_dtype(dt)\n",
      "c:\\Users\\Andílek\\AppData\\Local\\Programs\\Python\\Python39\\lib\\site-packages\\patsy\\util.py:672: FutureWarning: is_categorical_dtype is deprecated and will be removed in a future version. Use isinstance(dtype, CategoricalDtype) instead\n",
      "  return _pandas_is_categorical_dtype(dt)\n",
      "c:\\Users\\Andílek\\AppData\\Local\\Programs\\Python\\Python39\\lib\\site-packages\\patsy\\util.py:672: FutureWarning: is_categorical_dtype is deprecated and will be removed in a future version. Use isinstance(dtype, CategoricalDtype) instead\n",
      "  return _pandas_is_categorical_dtype(dt)\n",
      "c:\\Users\\Andílek\\AppData\\Local\\Programs\\Python\\Python39\\lib\\site-packages\\patsy\\util.py:672: FutureWarning: is_categorical_dtype is deprecated and will be removed in a future version. Use isinstance(dtype, CategoricalDtype) instead\n",
      "  return _pandas_is_categorical_dtype(dt)\n",
      "c:\\Users\\Andílek\\AppData\\Local\\Programs\\Python\\Python39\\lib\\site-packages\\patsy\\util.py:672: FutureWarning: is_categorical_dtype is deprecated and will be removed in a future version. Use isinstance(dtype, CategoricalDtype) instead\n",
      "  return _pandas_is_categorical_dtype(dt)\n",
      "c:\\Users\\Andílek\\AppData\\Local\\Programs\\Python\\Python39\\lib\\site-packages\\patsy\\util.py:672: FutureWarning: is_categorical_dtype is deprecated and will be removed in a future version. Use isinstance(dtype, CategoricalDtype) instead\n",
      "  return _pandas_is_categorical_dtype(dt)\n",
      "c:\\Users\\Andílek\\AppData\\Local\\Programs\\Python\\Python39\\lib\\site-packages\\patsy\\util.py:672: FutureWarning: is_categorical_dtype is deprecated and will be removed in a future version. Use isinstance(dtype, CategoricalDtype) instead\n",
      "  return _pandas_is_categorical_dtype(dt)\n",
      "c:\\Users\\Andílek\\AppData\\Local\\Programs\\Python\\Python39\\lib\\site-packages\\patsy\\util.py:672: FutureWarning: is_categorical_dtype is deprecated and will be removed in a future version. Use isinstance(dtype, CategoricalDtype) instead\n",
      "  return _pandas_is_categorical_dtype(dt)\n",
      "c:\\Users\\Andílek\\AppData\\Local\\Programs\\Python\\Python39\\lib\\site-packages\\patsy\\util.py:672: FutureWarning: is_categorical_dtype is deprecated and will be removed in a future version. Use isinstance(dtype, CategoricalDtype) instead\n",
      "  return _pandas_is_categorical_dtype(dt)\n"
     ]
    }
   ],
   "source": [
    "formula = \"Y ~ CR + DA + FL + OPM + RT + TAT + DE + PT\"\n",
    "mod = smf.ols(formula=formula, data=data_corr)\n",
    "res = mod.fit()\n",
    "influence = OLSInfluence(res)\n",
    "data_corr[\"Cookova vzdálenost\"] = influence.cooks_distance[0]"
   ]
  },
  {
   "cell_type": "code",
   "execution_count": 7,
   "metadata": {},
   "outputs": [
    {
     "name": "stderr",
     "output_type": "stream",
     "text": [
      "c:\\Users\\Andílek\\AppData\\Local\\Programs\\Python\\Python39\\lib\\site-packages\\patsy\\util.py:672: FutureWarning: is_categorical_dtype is deprecated and will be removed in a future version. Use isinstance(dtype, CategoricalDtype) instead\n",
      "  return _pandas_is_categorical_dtype(dt)\n",
      "c:\\Users\\Andílek\\AppData\\Local\\Programs\\Python\\Python39\\lib\\site-packages\\patsy\\util.py:672: FutureWarning: is_categorical_dtype is deprecated and will be removed in a future version. Use isinstance(dtype, CategoricalDtype) instead\n",
      "  return _pandas_is_categorical_dtype(dt)\n",
      "c:\\Users\\Andílek\\AppData\\Local\\Programs\\Python\\Python39\\lib\\site-packages\\patsy\\util.py:672: FutureWarning: is_categorical_dtype is deprecated and will be removed in a future version. Use isinstance(dtype, CategoricalDtype) instead\n",
      "  return _pandas_is_categorical_dtype(dt)\n",
      "c:\\Users\\Andílek\\AppData\\Local\\Programs\\Python\\Python39\\lib\\site-packages\\patsy\\util.py:672: FutureWarning: is_categorical_dtype is deprecated and will be removed in a future version. Use isinstance(dtype, CategoricalDtype) instead\n",
      "  return _pandas_is_categorical_dtype(dt)\n",
      "c:\\Users\\Andílek\\AppData\\Local\\Programs\\Python\\Python39\\lib\\site-packages\\patsy\\util.py:672: FutureWarning: is_categorical_dtype is deprecated and will be removed in a future version. Use isinstance(dtype, CategoricalDtype) instead\n",
      "  return _pandas_is_categorical_dtype(dt)\n",
      "c:\\Users\\Andílek\\AppData\\Local\\Programs\\Python\\Python39\\lib\\site-packages\\patsy\\util.py:672: FutureWarning: is_categorical_dtype is deprecated and will be removed in a future version. Use isinstance(dtype, CategoricalDtype) instead\n",
      "  return _pandas_is_categorical_dtype(dt)\n",
      "c:\\Users\\Andílek\\AppData\\Local\\Programs\\Python\\Python39\\lib\\site-packages\\patsy\\util.py:672: FutureWarning: is_categorical_dtype is deprecated and will be removed in a future version. Use isinstance(dtype, CategoricalDtype) instead\n",
      "  return _pandas_is_categorical_dtype(dt)\n",
      "c:\\Users\\Andílek\\AppData\\Local\\Programs\\Python\\Python39\\lib\\site-packages\\patsy\\util.py:672: FutureWarning: is_categorical_dtype is deprecated and will be removed in a future version. Use isinstance(dtype, CategoricalDtype) instead\n",
      "  return _pandas_is_categorical_dtype(dt)\n",
      "c:\\Users\\Andílek\\AppData\\Local\\Programs\\Python\\Python39\\lib\\site-packages\\patsy\\util.py:672: FutureWarning: is_categorical_dtype is deprecated and will be removed in a future version. Use isinstance(dtype, CategoricalDtype) instead\n",
      "  return _pandas_is_categorical_dtype(dt)\n",
      "c:\\Users\\Andílek\\AppData\\Local\\Programs\\Python\\Python39\\lib\\site-packages\\patsy\\util.py:672: FutureWarning: is_categorical_dtype is deprecated and will be removed in a future version. Use isinstance(dtype, CategoricalDtype) instead\n",
      "  return _pandas_is_categorical_dtype(dt)\n"
     ]
    },
    {
     "data": {
      "text/html": [
       "<table class=\"simpletable\">\n",
       "<caption>OLS Regression Results</caption>\n",
       "<tr>\n",
       "  <th>Dep. Variable:</th>            <td>Y</td>        <th>  R-squared:         </th> <td>   0.688</td>\n",
       "</tr>\n",
       "<tr>\n",
       "  <th>Model:</th>                   <td>OLS</td>       <th>  Adj. R-squared:    </th> <td>   0.660</td>\n",
       "</tr>\n",
       "<tr>\n",
       "  <th>Method:</th>             <td>Least Squares</td>  <th>  F-statistic:       </th> <td>   24.76</td>\n",
       "</tr>\n",
       "<tr>\n",
       "  <th>Date:</th>             <td>Thu, 16 Nov 2023</td> <th>  Prob (F-statistic):</th> <td>1.06e-19</td>\n",
       "</tr>\n",
       "<tr>\n",
       "  <th>Time:</th>                 <td>16:37:31</td>     <th>  Log-Likelihood:    </th> <td> -367.74</td>\n",
       "</tr>\n",
       "<tr>\n",
       "  <th>No. Observations:</th>      <td>    99</td>      <th>  AIC:               </th> <td>   753.5</td>\n",
       "</tr>\n",
       "<tr>\n",
       "  <th>Df Residuals:</th>          <td>    90</td>      <th>  BIC:               </th> <td>   776.8</td>\n",
       "</tr>\n",
       "<tr>\n",
       "  <th>Df Model:</th>              <td>     8</td>      <th>                     </th>     <td> </td>   \n",
       "</tr>\n",
       "<tr>\n",
       "  <th>Covariance Type:</th>      <td>nonrobust</td>    <th>                     </th>     <td> </td>   \n",
       "</tr>\n",
       "</table>\n",
       "<table class=\"simpletable\">\n",
       "<tr>\n",
       "      <td></td>         <th>coef</th>     <th>std err</th>      <th>t</th>      <th>P>|t|</th>  <th>[0.025</th>    <th>0.975]</th>  \n",
       "</tr>\n",
       "<tr>\n",
       "  <th>Intercept</th> <td>   -6.0524</td> <td>    5.364</td> <td>   -1.128</td> <td> 0.262</td> <td>  -16.708</td> <td>    4.604</td>\n",
       "</tr>\n",
       "<tr>\n",
       "  <th>CR</th>        <td>    1.4779</td> <td>    1.186</td> <td>    1.246</td> <td> 0.216</td> <td>   -0.878</td> <td>    3.834</td>\n",
       "</tr>\n",
       "<tr>\n",
       "  <th>DA</th>        <td>  -16.4346</td> <td>    9.678</td> <td>   -1.698</td> <td> 0.093</td> <td>  -35.661</td> <td>    2.792</td>\n",
       "</tr>\n",
       "<tr>\n",
       "  <th>FL</th>        <td>    0.8796</td> <td>    1.228</td> <td>    0.716</td> <td> 0.476</td> <td>   -1.561</td> <td>    3.320</td>\n",
       "</tr>\n",
       "<tr>\n",
       "  <th>OPM</th>       <td>   22.9074</td> <td>    7.728</td> <td>    2.964</td> <td> 0.004</td> <td>    7.555</td> <td>   38.260</td>\n",
       "</tr>\n",
       "<tr>\n",
       "  <th>RT</th>        <td>   -0.0003</td> <td>    0.020</td> <td>   -0.013</td> <td> 0.990</td> <td>   -0.040</td> <td>    0.040</td>\n",
       "</tr>\n",
       "<tr>\n",
       "  <th>TAT</th>       <td>    7.9619</td> <td>    2.254</td> <td>    3.533</td> <td> 0.001</td> <td>    3.484</td> <td>   12.440</td>\n",
       "</tr>\n",
       "<tr>\n",
       "  <th>DE</th>        <td>    4.2726</td> <td>    2.560</td> <td>    1.669</td> <td> 0.099</td> <td>   -0.814</td> <td>    9.359</td>\n",
       "</tr>\n",
       "<tr>\n",
       "  <th>PT</th>        <td>   -0.0192</td> <td>    0.093</td> <td>   -0.206</td> <td> 0.837</td> <td>   -0.204</td> <td>    0.166</td>\n",
       "</tr>\n",
       "</table>\n",
       "<table class=\"simpletable\">\n",
       "<tr>\n",
       "  <th>Omnibus:</th>       <td>20.217</td> <th>  Durbin-Watson:     </th> <td>   1.937</td>\n",
       "</tr>\n",
       "<tr>\n",
       "  <th>Prob(Omnibus):</th> <td> 0.000</td> <th>  Jarque-Bera (JB):  </th> <td>  53.822</td>\n",
       "</tr>\n",
       "<tr>\n",
       "  <th>Skew:</th>          <td> 0.649</td> <th>  Prob(JB):          </th> <td>2.05e-12</td>\n",
       "</tr>\n",
       "<tr>\n",
       "  <th>Kurtosis:</th>      <td> 6.371</td> <th>  Cond. No.          </th> <td>    640.</td>\n",
       "</tr>\n",
       "</table><br/><br/>Notes:<br/>[1] Standard Errors assume that the covariance matrix of the errors is correctly specified."
      ],
      "text/plain": [
       "<class 'statsmodels.iolib.summary.Summary'>\n",
       "\"\"\"\n",
       "                            OLS Regression Results                            \n",
       "==============================================================================\n",
       "Dep. Variable:                      Y   R-squared:                       0.688\n",
       "Model:                            OLS   Adj. R-squared:                  0.660\n",
       "Method:                 Least Squares   F-statistic:                     24.76\n",
       "Date:                Thu, 16 Nov 2023   Prob (F-statistic):           1.06e-19\n",
       "Time:                        16:37:31   Log-Likelihood:                -367.74\n",
       "No. Observations:                  99   AIC:                             753.5\n",
       "Df Residuals:                      90   BIC:                             776.8\n",
       "Df Model:                           8                                         \n",
       "Covariance Type:            nonrobust                                         \n",
       "==============================================================================\n",
       "                 coef    std err          t      P>|t|      [0.025      0.975]\n",
       "------------------------------------------------------------------------------\n",
       "Intercept     -6.0524      5.364     -1.128      0.262     -16.708       4.604\n",
       "CR             1.4779      1.186      1.246      0.216      -0.878       3.834\n",
       "DA           -16.4346      9.678     -1.698      0.093     -35.661       2.792\n",
       "FL             0.8796      1.228      0.716      0.476      -1.561       3.320\n",
       "OPM           22.9074      7.728      2.964      0.004       7.555      38.260\n",
       "RT            -0.0003      0.020     -0.013      0.990      -0.040       0.040\n",
       "TAT            7.9619      2.254      3.533      0.001       3.484      12.440\n",
       "DE             4.2726      2.560      1.669      0.099      -0.814       9.359\n",
       "PT            -0.0192      0.093     -0.206      0.837      -0.204       0.166\n",
       "==============================================================================\n",
       "Omnibus:                       20.217   Durbin-Watson:                   1.937\n",
       "Prob(Omnibus):                  0.000   Jarque-Bera (JB):               53.822\n",
       "Skew:                           0.649   Prob(JB):                     2.05e-12\n",
       "Kurtosis:                       6.371   Cond. No.                         640.\n",
       "==============================================================================\n",
       "\n",
       "Notes:\n",
       "[1] Standard Errors assume that the covariance matrix of the errors is correctly specified.\n",
       "\"\"\""
      ]
     },
     "execution_count": 7,
     "metadata": {},
     "output_type": "execute_result"
    }
   ],
   "source": [
    "data_corr = data_corr[data_corr[\"Cookova vzdálenost\"] < 1]\n",
    "mod = smf.ols(formula=formula, data=data_corr)\n",
    "res = mod.fit()\n",
    "res.summary()"
   ]
  },
  {
   "cell_type": "code",
   "execution_count": 10,
   "metadata": {},
   "outputs": [
    {
     "name": "stderr",
     "output_type": "stream",
     "text": [
      "C:\\Users\\Andílek\\AppData\\Local\\Temp\\ipykernel_28512\\1472937035.py:1: SettingWithCopyWarning: \n",
      "A value is trying to be set on a copy of a slice from a DataFrame.\n",
      "Try using .loc[row_indexer,col_indexer] = value instead\n",
      "\n",
      "See the caveats in the documentation: https://pandas.pydata.org/pandas-docs/stable/user_guide/indexing.html#returning-a-view-versus-a-copy\n",
      "  data_corr[\"Odhad_Y\"] = res.predict()\n",
      "C:\\Users\\Andílek\\AppData\\Local\\Temp\\ipykernel_28512\\1472937035.py:2: SettingWithCopyWarning: \n",
      "A value is trying to be set on a copy of a slice from a DataFrame.\n",
      "Try using .loc[row_indexer,col_indexer] = value instead\n",
      "\n",
      "See the caveats in the documentation: https://pandas.pydata.org/pandas-docs/stable/user_guide/indexing.html#returning-a-view-versus-a-copy\n",
      "  data_corr[\"Rozdíl\"] = data_corr[\"Odhad_Y\"] - data_corr[\"Y\"]\n"
     ]
    },
    {
     "data": {
      "text/plain": [
       "CR                     0.760000\n",
       "DA                     0.370000\n",
       "FL                    18.640000\n",
       "OPM                    0.063100\n",
       "RT                    12.440000\n",
       "TAT                    0.410000\n",
       "DE                     6.930000\n",
       "Y                      6.970000\n",
       "PT                     3.400000\n",
       "Cookova vzdálenost     0.575000\n",
       "Odhad_Y               39.636459\n",
       "Rozdíl                32.666459\n",
       "Name: 79, dtype: float64"
      ]
     },
     "execution_count": 10,
     "metadata": {},
     "output_type": "execute_result"
    }
   ],
   "source": [
    "data_corr[\"Odhad_Y\"] = res.predict()\n",
    "data_corr[\"Rozdíl\"] = data_corr[\"Odhad_Y\"] - data_corr[\"Y\"]\n",
    "\n",
    "max_hodnota = data_corr[\"Rozdíl\"].idxmax()\n",
    "\n",
    "max_cely_radek = data_corr.iloc[max_hodnota]\n",
    "max_cely_radek # Potenciálně nejvíce podhodnocená akcie je stejná jako u předchozích modelů"
   ]
  }
 ],
 "metadata": {
  "kernelspec": {
   "display_name": "Python 3",
   "language": "python",
   "name": "python3"
  },
  "language_info": {
   "codemirror_mode": {
    "name": "ipython",
    "version": 3
   },
   "file_extension": ".py",
   "mimetype": "text/x-python",
   "name": "python",
   "nbconvert_exporter": "python",
   "pygments_lexer": "ipython3",
   "version": "3.9.10"
  }
 },
 "nbformat": 4,
 "nbformat_minor": 2
}
